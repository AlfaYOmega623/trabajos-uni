{
 "cells": [
  {
   "cell_type": "markdown",
   "id": "59933961",
   "metadata": {},
   "source": [
    "# Método de bisección\n",
    "\n",
    "### En el metodo de la bisección sacamos un punto medio entre el limite mayor y el limite inferior. este punto medio lo evaluamos en la funcion y nos sirve para calcular o verificar si el resultado de la funcion evaluada con el punto medio multiplicado por el punto x1 o x2 evaluados en la funcion es mayor a cero, con esto vemos si cambiamos el punto x1 o x2 para ser reemplazado por el punto medio. repetimos esto hasta que se cumpla con las restricciones, con esto nos daria una raiz que se ajusta a la tolerancia de error solicitada de 1% ya que en este caso no sobrepasa las 10 iteraciones para dar una solucion adecuada al problema."
   ]
  },
  {
   "cell_type": "code",
   "execution_count": null,
   "id": "39b32ec0",
   "metadata": {},
   "outputs": [],
   "source": [
    "import matplotlib.pyplot as plt\n",
    "\n",
    "raices = []\n",
    "errores = []\n",
    "\n",
    "def F(x):\n",
    "    y=(1-(400/(9.81*(3*x+(x**2/2))**3))*(3+x))\n",
    "    return(y)\n",
    "\n",
    "xl=0.5\n",
    "xu=2.5\n",
    "error_f= 0.01\n",
    "iter=0\n",
    "error_i=1\n",
    "while error_i > error_f and iter<10:\n",
    "    pm=(xl+xu)/2\n",
    "    raices.append(pm)\n",
    "    f_xl=F(xl)\n",
    "    f_xu=F(xu)\n",
    "    f_c=F(pm)\n",
    "    if F(xl) * F(pm) < 0:\n",
    "        xl=xl\n",
    "        xu=pm\n",
    "    else:\n",
    "        xl=xu\n",
    "        xu=pm\n",
    "\n",
    "    iter=iter+1\n",
    "\n",
    "    error_i=abs(xl-pm)\n",
    "    errores.append(error_i)\n",
    "    print(\"raiz: \",pm)\n",
    "    print(\"iteraciones: \",iter)\n",
    "    print(\"porciento: \", error_i*100,\"%\")\n",
    "    \n",
    "plt.plot(raices, color = 'g')\n",
    "plt.show()\n",
    "\n",
    "plt.plot(errores, color = 'r')\n",
    "plt.show()"
   ]
  }
 ],
 "metadata": {
  "kernelspec": {
   "display_name": "Python 3 (ipykernel)",
   "language": "python",
   "name": "python3"
  },
  "language_info": {
   "codemirror_mode": {
    "name": "ipython",
    "version": 3
   },
   "file_extension": ".py",
   "mimetype": "text/x-python",
   "name": "python",
   "nbconvert_exporter": "python",
   "pygments_lexer": "ipython3",
   "version": "3.9.6"
  }
 },
 "nbformat": 4,
 "nbformat_minor": 5
}
