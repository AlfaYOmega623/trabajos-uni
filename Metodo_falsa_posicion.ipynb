{
 "cells": [
  {
   "cell_type": "markdown",
   "id": "27eb13bd",
   "metadata": {},
   "source": [
    "# Método de la falsa posición:\n",
    "\n",
    "### Esta función determina el valor de la función otorgada a partir de 2 valores que podemos estimar, ó, en este caso se nos fueron otorgados, donde haremos una comprobación de resultados para cambiar uno de los 2 valores  y luego repetir el método para llegar a la profundidad crítica más cercana con las restricciones dadas.\n",
    "\n",
    "##### (El gráfico de raíces está en color verde y el de los errores en rojo)"
   ]
  },
  {
   "cell_type": "code",
   "execution_count": 3,
   "id": "0310fa13",
   "metadata": {},
   "outputs": [
    {
     "name": "stdout",
     "output_type": "stream",
     "text": [
      "Iteraciones restantes:  10\n",
      "Valor x0:  0.5 Valor x1 2.450831476880765\n",
      "Iteraciones restantes:  9\n",
      "Valor x0:  0.5 Valor x1 2.4036291706036788\n",
      "Iteraciones restantes:  8\n",
      "Valor x0:  0.5 Valor x1 2.358341918973515\n",
      "Iteraciones restantes:  7\n",
      "Valor x0:  0.5 Valor x1 2.314919172687897\n",
      "Iteraciones restantes:  6\n",
      "Valor x0:  0.5 Valor x1 2.2733109174519908\n",
      "Iteraciones restantes:  5\n",
      "Valor x0:  0.5 Valor x1 2.2334676048858766\n",
      "Iteraciones restantes:  4\n",
      "Valor x0:  0.5 Valor x1 2.19534009291489\n",
      "Iteraciones restantes:  3\n",
      "Valor x0:  0.5 Valor x1 2.1588795962209675\n",
      "Iteraciones restantes:  2\n",
      "Valor x0:  0.5 Valor x1 2.124037647197515\n",
      "Iteraciones restantes:  1\n",
      "Valor x0:  0.5 Valor x1 2.090766067694518\n",
      "Iteraciones restantes:  0\n",
      "Valor x0:  0.5 Valor x1 2.059016951668595\n",
      "La raíz obtenida es:  2.059016951668595\n",
      "El error es : 1.5419550577373191 %\n"
     ]
    },
    {
     "data": {
      "image/png": "[encoded data removed]",
      "text/plain": [
       "<Figure size 432x288 with 1 Axes>"
      ]
     },
     "metadata": {
      "needs_background": "light"
     },
     "output_type": "display_data"
    },
    {
     "data": {
      "image/png": "[encoded data removed]",
      "text/plain": [
       "<Figure size 432x288 with 1 Axes>"
      ]
     },
     "metadata": {
      "needs_background": "light"
     },
     "output_type": "display_data"
    }
   ],
   "source": [
    "import numpy as np\n",
    "import matplotlib.pyplot as plt\n",
    "\n",
    "raices = []\n",
    "errores = []\n",
    "\n",
    "def f(x):\n",
    "    y = 1-(400/(9.81*(3*x + ((x**2)/2))**3)) * (3 + x)\n",
    "    return y\n",
    "\n",
    "x0 = 0.5 \n",
    "x1 = 2.5\n",
    "e = 1\n",
    "iteraciones = 10\n",
    "\n",
    "def absoluto(a,b):\n",
    "    return np.absolute(a-b)\n",
    "\n",
    "def falsa_pos(x0,x1,iteraciones):\n",
    "    x2 = 1\n",
    "    while iteraciones >= 0:\n",
    "        x2_anterior = x2\n",
    "        x2 = x0 - ((x0-x1) * f(x0))/(f(x0) - f(x1))\n",
    "        raices.append(x2)\n",
    "        print(\"Iteraciones restantes: \", iteraciones)\n",
    "        error = (absoluto(x2, x2_anterior)/x2)*100\n",
    "        errores.append(error)\n",
    "        if error < e:\n",
    "            break\n",
    "        if f(x0)*f(x2) < 0:\n",
    "            x1 = x2\n",
    "        else:\n",
    "            x0 = x2\n",
    "        print(\"Valor x0: \", x0, \"Valor x1\", x1)\n",
    "        iteraciones = iteraciones - 1\n",
    "    print(\"La raíz obtenida es: \", x2)\n",
    "    print(\"El error es :\", error, \"%\")\n",
    "\n",
    "falsa_pos(x0,x1,iteraciones)\n",
    "\n",
    "plt.plot(raices, color = 'g')\n",
    "plt.show()\n",
    "\n",
    "plt.plot(errores, color = 'r')\n",
    "plt.show()"
   ]
  },
  {
   "cell_type": "code",
   "execution_count": null,
   "id": "cc85de35",
   "metadata": {},
   "outputs": [],
   "source": []
  }
 ],
 "metadata": {
  "kernelspec": {
   "display_name": "Python 3 (ipykernel)",
   "language": "python",
   "name": "python3"
  },
  "language_info": {
   "codemirror_mode": {
    "name": "ipython",
    "version": 3
   },
   "file_extension": ".py",
   "mimetype": "text/x-python",
   "name": "python",
   "nbconvert_exporter": "python",
   "pygments_lexer": "ipython3",
   "version": "3.9.6"
  }
 },
 "nbformat": 4,
 "nbformat_minor": 5
}
