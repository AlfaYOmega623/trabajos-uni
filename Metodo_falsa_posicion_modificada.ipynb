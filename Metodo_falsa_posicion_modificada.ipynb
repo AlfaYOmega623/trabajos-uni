{
 "cells": [
  {
   "cell_type": "markdown",
   "id": "bd081d57",
   "metadata": {},
   "source": [
    "# Método de la falsa posición modificada\n",
    "\n",
    "### Similar al método de la falsa posición, pero ahora hay un método para forzar a los valores estáticos a cambiar si no lo hacen por métodos usuales.\n",
    "\n",
    "##### (El gráfico de raíces está en color verde y el de los errores en rojo)"
   ]
  },
  {
   "cell_type": "code",
   "execution_count": 1,
   "id": "14b8d179",
   "metadata": {},
   "outputs": [
    {
     "name": "stdout",
     "output_type": "stream",
     "text": [
      "1.513168304868711\n"
     ]
    },
    {
     "data": {
      "image/png": "[encoded data removed]",
      "text/plain": [
       "<Figure size 432x288 with 1 Axes>"
      ]
     },
     "metadata": {
      "needs_background": "light"
     },
     "output_type": "display_data"
    },
    {
     "data": {
      "image/png": "[encoded data removed]",
      "text/plain": [
       "<Figure size 432x288 with 1 Axes>"
      ]
     },
     "metadata": {
      "needs_background": "light"
     },
     "output_type": "display_data"
    }
   ],
   "source": [
    "import matplotlib.pyplot as plt\n",
    "\n",
    "raices = []\n",
    "errores = []\n",
    "\n",
    "def F(x):\n",
    "    y=(1-(400/(9.81*(3*x+(x**2/2))**3))*(3+x))\n",
    "    return(y)\n",
    "\n",
    "def Modfalsepos(x1,x2,error_i,imax):\n",
    "    iter=0\n",
    "    f1=F(x1)\n",
    "    f2=F(x2)\n",
    "    error_f=100\n",
    "    xr=1\n",
    "    i1=0\n",
    "    i2=0\n",
    "    while error_f<error_i or iter<imax:\n",
    "        xrold=xr\n",
    "        xr=x2-f2*(x1-x2)/(f1-f2)\n",
    "        raices.append(xr)\n",
    "        fr=F(xr)\n",
    "        iter+=1\n",
    "        if xr != 0:\n",
    "            error_f=abs((xr-xrold)/xr)*100\n",
    "            errores.append(error_f)\n",
    "        test=f1*fr\n",
    "        if test<0:\n",
    "            x2=xr\n",
    "            f2=F(x2)\n",
    "            i2=0\n",
    "            i1=i1+1\n",
    "            if i1>=2:\n",
    "                f1=f1/2\n",
    "        elif test>0:\n",
    "            x1=xr\n",
    "            f1=F(x1)\n",
    "            i1=0\n",
    "            i2=i2+1\n",
    "            if i2>=2:\n",
    "                f2=f2/2\n",
    "        if error_f<error_i or iter>=imax:\n",
    "            print(xr)\n",
    "            break\n",
    "\n",
    "Modfalsepos(0.5,2.5,0.01,10)\n",
    "\n",
    "plt.plot(raices, color = 'g')\n",
    "plt.show()\n",
    "\n",
    "plt.plot(errores, color = 'r')\n",
    "plt.show()"
   ]
  },
  {
   "cell_type": "code",
   "execution_count": null,
   "id": "4cf8f4bf",
   "metadata": {},
   "outputs": [],
   "source": []
  }
 ],
 "metadata": {
  "kernelspec": {
   "display_name": "Python 3 (ipykernel)",
   "language": "python",
   "name": "python3"
  },
  "language_info": {
   "codemirror_mode": {
    "name": "ipython",
    "version": 3
   },
   "file_extension": ".py",
   "mimetype": "text/x-python",
   "name": "python",
   "nbconvert_exporter": "python",
   "pygments_lexer": "ipython3",
   "version": "3.9.6"
  }
 },
 "nbformat": 4,
 "nbformat_minor": 5
}
