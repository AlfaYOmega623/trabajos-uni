{
 "cells": [
  {
   "cell_type": "code",
   "execution_count": 1,
   "id": "4010f6b4",
   "metadata": {},
   "outputs": [
    {
     "name": "stdout",
     "output_type": "stream",
     "text": [
      "La solución aproximada en la i-esima iteración es x= 1.0\n",
      "Error absoluto = 1.0\n",
      "Error relativo = 1.0\n",
      "Razón convergencia = [1.0]\n",
      "La solución aproximada en la i-esima iteración es x= 0.5\n",
      "Error absoluto = 0.5\n",
      "Error relativo = 1.0\n",
      "Razón convergencia = [1.0, 0.5]\n",
      "La solución aproximada en la i-esima iteración es x= 0.25\n",
      "Error absoluto = 0.25\n",
      "Error relativo = 1.0\n",
      "Razón convergencia = [1.0, 0.5, 0.25]\n",
      "La solución aproximada en la i-esima iteración es x= 0.125\n",
      "Error absoluto = 0.125\n",
      "Error relativo = 1.0\n",
      "Razón convergencia = [1.0, 0.5, 0.25, 0.125]\n",
      "La solución aproximada en la i-esima iteración es x= 0.0625\n",
      "Error absoluto = 0.0625\n",
      "Error relativo = 1.0\n",
      "Razón convergencia = [1.0, 0.5, 0.25, 0.125, 0.0625]\n",
      "La solución aproximada en la i-esima iteración es x= 0.09375\n",
      "Error absoluto = 0.03125\n",
      "Error relativo = 0.3333333333333333\n",
      "Razón convergencia = [1.0, 0.5, 0.25, 0.125, 0.0625, 0.03125]\n",
      "La solución aproximada en la i-esima iteración es x= 0.078125\n",
      "Error absoluto = 0.015625\n",
      "Error relativo = 0.2\n",
      "Razón convergencia = [1.0, 0.5, 0.25, 0.125, 0.0625, 0.03125, 0.015625]\n",
      "La solución aproximada en la i-esima iteración es x= 0.0703125\n",
      "Error absoluto = 0.0078125\n",
      "Error relativo = 0.1111111111111111\n",
      "Razón convergencia = [1.0, 0.5, 0.25, 0.125, 0.0625, 0.03125, 0.015625, 0.0078125]\n",
      "La solución aproximada en la i-esima iteración es x= 0.06640625\n",
      "Error absoluto = 0.00390625\n",
      "Error relativo = 0.058823529411764705\n",
      "Razón convergencia = [1.0, 0.5, 0.25, 0.125, 0.0625, 0.03125, 0.015625, 0.0078125, 0.00390625]\n",
      "La solución aproximada en la i-esima iteración es x= 0.064453125\n",
      "Error absoluto = 0.001953125\n",
      "Error relativo = 0.030303030303030304\n",
      "Razón convergencia = [1.0, 0.5, 0.25, 0.125, 0.0625, 0.03125, 0.015625, 0.0078125, 0.00390625, 0.001953125]\n",
      "***********Máxima cantidad de iteraciones alcanzada***********\n"
     ]
    },
    {
     "data": {
      "image/png": "[encoded data removed]",
      "text/plain": [
       "<Figure size 432x288 with 1 Axes>"
      ]
     },
     "metadata": {
      "needs_background": "light"
     },
     "output_type": "display_data"
    },
    {
     "data": {
      "text/plain": [
       "<sympy.plotting.plot.Plot at 0x25ff8f03970>"
      ]
     },
     "execution_count": 1,
     "metadata": {},
     "output_type": "execute_result"
    }
   ],
   "source": [
    "import matplotlib.pyplot as plt\n",
    "from sympy.solvers import solve\n",
    "from sympy import*\n",
    "import numpy as np\n",
    "\n",
    "\n",
    "def f(x): return 1-(400/9.81*(3*x + ((x**2)/2))**3) * (3 + x)\n",
    "a=0\n",
    "b=2\n",
    "e=0.00001\n",
    "r=0\n",
    "cuenta = 10\n",
    "S=[a]\n",
    "Error=[1]\n",
    "relativo = [np.absolute((b-a)/(b))]\n",
    "Conv = []\n",
    "while relativo[r]>=e and cuenta > 0:\n",
    "    cuenta = cuenta - 1\n",
    "    r = r+1\n",
    "    c=(a+b)/2\n",
    "    print(\"La solución aproximada en la i-esima iteración es x=\",c)\n",
    "    if f(c)==0:\n",
    "        print(\"La solución obtiene en x=\",c)\n",
    "    else:\n",
    "        if f(a)*f(c)>0:\n",
    "            a=c\n",
    "        else:\n",
    "            b=c\n",
    "    \n",
    "    Anterior = r-1\n",
    "    S.append(c)\n",
    "    absoluto = np.absolute(S[r]-S[Anterior])\n",
    "    rela = np.absolute((S[r]-S[Anterior])/S[r])\n",
    "    relativo.append(rela)\n",
    "    Error.append(absoluto)\n",
    "    Razon = (Error[r]/Error[1])\n",
    "    Conv.append(Razon)\n",
    "    print(\"Error absoluto =\",absoluto)\n",
    "    print(\"Error relativo =\",relativo[r])\n",
    "    print(\"Razón convergencia =\",Conv)\n",
    "    if cuenta == 0:\n",
    "        print(\"***********Máxima cantidad de iteraciones alcanzada***********\")\n",
    "    \n",
    "x = Symbol('x')\n",
    "g = (1-(400/9.81*(3*x + ((x**2)/2))**3) * (3 + x))\n",
    "plot(g,(x,0,2))"
   ]
  },
  {
   "cell_type": "code",
   "execution_count": null,
   "id": "5ce73e88",
   "metadata": {},
   "outputs": [],
   "source": []
  }
 ],
 "metadata": {
  "kernelspec": {
   "display_name": "Python 3 (ipykernel)",
   "language": "python",
   "name": "python3"
  },
  "language_info": {
   "codemirror_mode": {
    "name": "ipython",
    "version": 3
   },
   "file_extension": ".py",
   "mimetype": "text/x-python",
   "name": "python",
   "nbconvert_exporter": "python",
   "pygments_lexer": "ipython3",
   "version": "3.9.6"
  }
 },
 "nbformat": 4,
 "nbformat_minor": 5
}
